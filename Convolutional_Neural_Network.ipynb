{
 "cells": [
  {
   "cell_type": "markdown",
   "metadata": {
    "id": "EMefrVPCg-60"
   },
   "source": [
    "### Importing the libraries"
   ]
  },
  {
   "cell_type": "code",
   "execution_count": 1,
   "metadata": {
    "id": "VcWBlLfLB36k"
   },
   "outputs": [
    {
     "name": "stdout",
     "output_type": "stream",
     "text": [
      "WARNING:tensorflow:From C:\\Users\\prath\\anaconda3\\Lib\\site-packages\\keras\\src\\losses.py:2976: The name tf.losses.sparse_softmax_cross_entropy is deprecated. Please use tf.compat.v1.losses.sparse_softmax_cross_entropy instead.\n",
      "\n"
     ]
    }
   ],
   "source": [
    "import tensorflow as tf\n",
    "from keras.preprocessing.image import ImageDataGenerator"
   ]
  },
  {
   "cell_type": "markdown",
   "metadata": {
    "id": "oxQxCBWyoGPE"
   },
   "source": [
    "## Part 1 - Data Preprocessing"
   ]
  },
  {
   "cell_type": "markdown",
   "metadata": {
    "id": "MvE-heJNo3GG"
   },
   "source": [
    "### Preprocessing the Training set"
   ]
  },
  {
   "cell_type": "code",
   "execution_count": 2,
   "metadata": {
    "id": "5GI6kl7tDnKp"
   },
   "outputs": [
    {
     "name": "stdout",
     "output_type": "stream",
     "text": [
      "Found 8000 images belonging to 2 classes.\n"
     ]
    }
   ],
   "source": [
    "train_datagen = ImageDataGenerator(\n",
    "    rescale = 1./255,\n",
    "    shear_range = 0.2,\n",
    "    zoom_range = 0.2,\n",
    "    horizontal_flip = True)\n",
    "training_set = train_datagen.flow_from_directory(\n",
    "    'C:/Users/prath/OneDrive/Desktop/Machine Learning-A-Z-Codes-Datasets/dataset/training_set',\n",
    "    target_size = (64,64),\n",
    "    batch_size = 32,\n",
    "    class_mode = 'binary')"
   ]
  },
  {
   "cell_type": "markdown",
   "metadata": {
    "id": "mrCMmGw9pHys"
   },
   "source": [
    "### Preprocessing the Test set"
   ]
  },
  {
   "cell_type": "code",
   "execution_count": 3,
   "metadata": {
    "id": "yhGrrjcJEytu"
   },
   "outputs": [
    {
     "name": "stdout",
     "output_type": "stream",
     "text": [
      "Found 8000 images belonging to 2 classes.\n"
     ]
    }
   ],
   "source": [
    "test_datagen = ImageDataGenerator(rescale = 1./255)\n",
    "test_set = test_datagen.flow_from_directory(\n",
    "    'C:/Users/prath/OneDrive/Desktop/Machine Learning-A-Z-Codes-Datasets/dataset/training_set',\n",
    "    target_size = (64,64),\n",
    "    batch_size = 32,\n",
    "    class_mode = 'binary')"
   ]
  },
  {
   "cell_type": "markdown",
   "metadata": {
    "id": "af8O4l90gk7B"
   },
   "source": [
    "## Part 2 - Building the CNN"
   ]
  },
  {
   "cell_type": "markdown",
   "metadata": {
    "id": "ces1gXY2lmoX"
   },
   "source": [
    "### Initialising the CNN"
   ]
  },
  {
   "cell_type": "code",
   "execution_count": 4,
   "metadata": {
    "id": "OLmZ6L8-F9UT"
   },
   "outputs": [
    {
     "name": "stdout",
     "output_type": "stream",
     "text": [
      "WARNING:tensorflow:From C:\\Users\\prath\\anaconda3\\Lib\\site-packages\\keras\\src\\backend.py:873: The name tf.get_default_graph is deprecated. Please use tf.compat.v1.get_default_graph instead.\n",
      "\n"
     ]
    }
   ],
   "source": [
    "cnn = tf.keras.models.Sequential()"
   ]
  },
  {
   "cell_type": "markdown",
   "metadata": {
    "id": "u5YJj_XMl5LF"
   },
   "source": [
    "### Step 1 - Convolution"
   ]
  },
  {
   "cell_type": "code",
   "execution_count": 5,
   "metadata": {
    "id": "HFThE8RgGCrv"
   },
   "outputs": [],
   "source": [
    "cnn.add(tf.keras.layers.Conv2D(filters = 32, kernel_size = 3, activation = 'relu', input_shape = [64, 64, 3]))"
   ]
  },
  {
   "cell_type": "markdown",
   "metadata": {
    "id": "tf87FpvxmNOJ"
   },
   "source": [
    "### Step 2 - Pooling"
   ]
  },
  {
   "cell_type": "code",
   "execution_count": 6,
   "metadata": {
    "id": "I7jQUSJ-HjiX"
   },
   "outputs": [
    {
     "name": "stdout",
     "output_type": "stream",
     "text": [
      "WARNING:tensorflow:From C:\\Users\\prath\\anaconda3\\Lib\\site-packages\\keras\\src\\layers\\pooling\\max_pooling2d.py:161: The name tf.nn.max_pool is deprecated. Please use tf.nn.max_pool2d instead.\n",
      "\n"
     ]
    }
   ],
   "source": [
    "cnn.add(tf.keras.layers.MaxPool2D(pool_size = 2, strides = 2))"
   ]
  },
  {
   "cell_type": "markdown",
   "metadata": {
    "id": "xaTOgD8rm4mU"
   },
   "source": [
    "### Adding a second convolutional layer"
   ]
  },
  {
   "cell_type": "code",
   "execution_count": 7,
   "metadata": {
    "id": "ND2DhO7mH14m"
   },
   "outputs": [],
   "source": [
    "cnn.add(tf.keras.layers.Conv2D(filters = 32, kernel_size= 3, activation = 'relu'))\n",
    "cnn.add(tf.keras.layers.MaxPool2D(pool_size = 2, strides = 2))"
   ]
  },
  {
   "cell_type": "code",
   "execution_count": 8,
   "metadata": {},
   "outputs": [],
   "source": [
    "cnn.add(tf.keras.layers.Conv2D(filters = 32, kernel_size= 3, activation = 'relu'))\n",
    "cnn.add(tf.keras.layers.MaxPool2D(pool_size = 2, strides = 2))"
   ]
  },
  {
   "cell_type": "markdown",
   "metadata": {
    "id": "tmiEuvTunKfk"
   },
   "source": [
    "### Step 3 - Flattening"
   ]
  },
  {
   "cell_type": "code",
   "execution_count": 9,
   "metadata": {
    "id": "q4r-HrV9IXbL"
   },
   "outputs": [],
   "source": [
    "cnn.add(tf.keras.layers.Flatten())"
   ]
  },
  {
   "cell_type": "markdown",
   "metadata": {
    "id": "dAoSECOm203v"
   },
   "source": [
    "### Step 4 - Full Connection"
   ]
  },
  {
   "cell_type": "code",
   "execution_count": 10,
   "metadata": {
    "id": "4_YtrkwIIchg"
   },
   "outputs": [],
   "source": [
    "cnn.add(tf.keras.layers.Dense(units = 128, activation = 'relu'))"
   ]
  },
  {
   "cell_type": "markdown",
   "metadata": {
    "id": "yTldFvbX28Na"
   },
   "source": [
    "### Step 5 - Output Layer"
   ]
  },
  {
   "cell_type": "code",
   "execution_count": 11,
   "metadata": {
    "id": "ag9DT-fBI-68"
   },
   "outputs": [],
   "source": [
    "cnn.add(tf.keras.layers.Dense(units = 1, activation = 'sigmoid'))"
   ]
  },
  {
   "cell_type": "markdown",
   "metadata": {
    "id": "D6XkI90snSDl"
   },
   "source": [
    "## Part 3 - Training the CNN"
   ]
  },
  {
   "cell_type": "markdown",
   "metadata": {
    "id": "vfrFQACEnc6i"
   },
   "source": [
    "### Compiling the CNN"
   ]
  },
  {
   "cell_type": "code",
   "execution_count": 12,
   "metadata": {
    "id": "H_X9y2iuJ3L9"
   },
   "outputs": [
    {
     "name": "stdout",
     "output_type": "stream",
     "text": [
      "WARNING:tensorflow:From C:\\Users\\prath\\anaconda3\\Lib\\site-packages\\keras\\src\\optimizers\\__init__.py:309: The name tf.train.Optimizer is deprecated. Please use tf.compat.v1.train.Optimizer instead.\n",
      "\n"
     ]
    }
   ],
   "source": [
    "cnn.compile(optimizer = 'adam', loss = 'binary_crossentropy', metrics = ['accuracy'])"
   ]
  },
  {
   "cell_type": "markdown",
   "metadata": {
    "id": "ehS-v3MIpX2h"
   },
   "source": [
    "### Training the CNN on the Training set and evaluating it on the Test set"
   ]
  },
  {
   "cell_type": "code",
   "execution_count": 13,
   "metadata": {
    "id": "pQRHaLouKTn-"
   },
   "outputs": [
    {
     "name": "stdout",
     "output_type": "stream",
     "text": [
      "Epoch 1/50\n",
      "WARNING:tensorflow:From C:\\Users\\prath\\anaconda3\\Lib\\site-packages\\keras\\src\\utils\\tf_utils.py:492: The name tf.ragged.RaggedTensorValue is deprecated. Please use tf.compat.v1.ragged.RaggedTensorValue instead.\n",
      "\n",
      "WARNING:tensorflow:From C:\\Users\\prath\\anaconda3\\Lib\\site-packages\\keras\\src\\engine\\base_layer_utils.py:384: The name tf.executing_eagerly_outside_functions is deprecated. Please use tf.compat.v1.executing_eagerly_outside_functions instead.\n",
      "\n",
      "250/250 [==============================] - 127s 500ms/step - loss: 0.6689 - accuracy: 0.5899 - val_loss: 0.6018 - val_accuracy: 0.6913\n",
      "Epoch 2/50\n",
      "250/250 [==============================] - 63s 252ms/step - loss: 0.5942 - accuracy: 0.6833 - val_loss: 0.5669 - val_accuracy: 0.7054\n",
      "Epoch 3/50\n",
      "250/250 [==============================] - 63s 254ms/step - loss: 0.5552 - accuracy: 0.7151 - val_loss: 0.5085 - val_accuracy: 0.7455\n",
      "Epoch 4/50\n",
      "250/250 [==============================] - 69s 275ms/step - loss: 0.5242 - accuracy: 0.7390 - val_loss: 0.4700 - val_accuracy: 0.7797\n",
      "Epoch 5/50\n",
      "250/250 [==============================] - 67s 267ms/step - loss: 0.4980 - accuracy: 0.7613 - val_loss: 0.4538 - val_accuracy: 0.7854\n",
      "Epoch 6/50\n",
      "250/250 [==============================] - 63s 252ms/step - loss: 0.4827 - accuracy: 0.7709 - val_loss: 0.4562 - val_accuracy: 0.7884\n",
      "Epoch 7/50\n",
      "250/250 [==============================] - 64s 256ms/step - loss: 0.4578 - accuracy: 0.7829 - val_loss: 0.4205 - val_accuracy: 0.8006\n",
      "Epoch 8/50\n",
      "250/250 [==============================] - 62s 250ms/step - loss: 0.4425 - accuracy: 0.7935 - val_loss: 0.3843 - val_accuracy: 0.8225\n",
      "Epoch 9/50\n",
      "250/250 [==============================] - 64s 257ms/step - loss: 0.4379 - accuracy: 0.7936 - val_loss: 0.3911 - val_accuracy: 0.8357\n",
      "Epoch 10/50\n",
      "250/250 [==============================] - 63s 251ms/step - loss: 0.4136 - accuracy: 0.8086 - val_loss: 0.3593 - val_accuracy: 0.8363\n",
      "Epoch 11/50\n",
      "250/250 [==============================] - 64s 255ms/step - loss: 0.3966 - accuracy: 0.8189 - val_loss: 0.3640 - val_accuracy: 0.8334\n",
      "Epoch 12/50\n",
      "250/250 [==============================] - 64s 257ms/step - loss: 0.3827 - accuracy: 0.8271 - val_loss: 0.3489 - val_accuracy: 0.8432\n",
      "Epoch 13/50\n",
      "250/250 [==============================] - 63s 251ms/step - loss: 0.3818 - accuracy: 0.8289 - val_loss: 0.4119 - val_accuracy: 0.8049\n",
      "Epoch 14/50\n",
      "250/250 [==============================] - 64s 257ms/step - loss: 0.3769 - accuracy: 0.8339 - val_loss: 0.3353 - val_accuracy: 0.8558\n",
      "Epoch 15/50\n",
      "250/250 [==============================] - 63s 253ms/step - loss: 0.3587 - accuracy: 0.8382 - val_loss: 0.3254 - val_accuracy: 0.8590\n",
      "Epoch 16/50\n",
      "250/250 [==============================] - 65s 258ms/step - loss: 0.3489 - accuracy: 0.8418 - val_loss: 0.3671 - val_accuracy: 0.8410\n",
      "Epoch 17/50\n",
      "250/250 [==============================] - 63s 253ms/step - loss: 0.3417 - accuracy: 0.8461 - val_loss: 0.3217 - val_accuracy: 0.8580\n",
      "Epoch 18/50\n",
      "250/250 [==============================] - 67s 268ms/step - loss: 0.3299 - accuracy: 0.8536 - val_loss: 0.2978 - val_accuracy: 0.8716\n",
      "Epoch 19/50\n",
      "250/250 [==============================] - 115s 462ms/step - loss: 0.3170 - accuracy: 0.8595 - val_loss: 0.2679 - val_accuracy: 0.8838\n",
      "Epoch 20/50\n",
      "250/250 [==============================] - 60s 240ms/step - loss: 0.3117 - accuracy: 0.8675 - val_loss: 0.2640 - val_accuracy: 0.8879\n",
      "Epoch 21/50\n",
      "250/250 [==============================] - 64s 254ms/step - loss: 0.3028 - accuracy: 0.8636 - val_loss: 0.2484 - val_accuracy: 0.8936\n",
      "Epoch 22/50\n",
      "250/250 [==============================] - 70s 280ms/step - loss: 0.2969 - accuracy: 0.8685 - val_loss: 0.2605 - val_accuracy: 0.8891\n",
      "Epoch 23/50\n",
      "250/250 [==============================] - 103s 414ms/step - loss: 0.2934 - accuracy: 0.8704 - val_loss: 0.2334 - val_accuracy: 0.9003\n",
      "Epoch 24/50\n",
      "250/250 [==============================] - 102s 410ms/step - loss: 0.2804 - accuracy: 0.8776 - val_loss: 0.2487 - val_accuracy: 0.9004\n",
      "Epoch 25/50\n",
      "250/250 [==============================] - 103s 411ms/step - loss: 0.2807 - accuracy: 0.8783 - val_loss: 0.2987 - val_accuracy: 0.8723\n",
      "Epoch 26/50\n",
      "250/250 [==============================] - 102s 407ms/step - loss: 0.2650 - accuracy: 0.8841 - val_loss: 0.2065 - val_accuracy: 0.9137\n",
      "Epoch 27/50\n",
      "250/250 [==============================] - 102s 410ms/step - loss: 0.2577 - accuracy: 0.8873 - val_loss: 0.2342 - val_accuracy: 0.9004\n",
      "Epoch 28/50\n",
      "250/250 [==============================] - 85s 339ms/step - loss: 0.2420 - accuracy: 0.8967 - val_loss: 0.2720 - val_accuracy: 0.8805\n",
      "Epoch 29/50\n",
      "250/250 [==============================] - 62s 249ms/step - loss: 0.2405 - accuracy: 0.8974 - val_loss: 0.1886 - val_accuracy: 0.9274\n",
      "Epoch 30/50\n",
      "250/250 [==============================] - 63s 253ms/step - loss: 0.2226 - accuracy: 0.9061 - val_loss: 0.2039 - val_accuracy: 0.9161\n",
      "Epoch 31/50\n",
      "250/250 [==============================] - 61s 246ms/step - loss: 0.2213 - accuracy: 0.9129 - val_loss: 0.1707 - val_accuracy: 0.9314\n",
      "Epoch 32/50\n",
      "250/250 [==============================] - 62s 250ms/step - loss: 0.2141 - accuracy: 0.9080 - val_loss: 0.2784 - val_accuracy: 0.8784\n",
      "Epoch 33/50\n",
      "250/250 [==============================] - 88s 352ms/step - loss: 0.2108 - accuracy: 0.9100 - val_loss: 0.1901 - val_accuracy: 0.9225\n",
      "Epoch 34/50\n",
      "250/250 [==============================] - 102s 408ms/step - loss: 0.2012 - accuracy: 0.9179 - val_loss: 0.1650 - val_accuracy: 0.9326\n",
      "Epoch 35/50\n",
      "250/250 [==============================] - 101s 405ms/step - loss: 0.2005 - accuracy: 0.9171 - val_loss: 0.1590 - val_accuracy: 0.9361\n",
      "Epoch 36/50\n",
      "250/250 [==============================] - 101s 402ms/step - loss: 0.1826 - accuracy: 0.9243 - val_loss: 0.1504 - val_accuracy: 0.9383\n",
      "Epoch 37/50\n",
      "250/250 [==============================] - 100s 400ms/step - loss: 0.1905 - accuracy: 0.9225 - val_loss: 0.1462 - val_accuracy: 0.9409\n",
      "Epoch 38/50\n",
      "250/250 [==============================] - 101s 406ms/step - loss: 0.1807 - accuracy: 0.9256 - val_loss: 0.1383 - val_accuracy: 0.9430\n",
      "Epoch 39/50\n",
      "250/250 [==============================] - 103s 413ms/step - loss: 0.1679 - accuracy: 0.9317 - val_loss: 0.1162 - val_accuracy: 0.9564\n",
      "Epoch 40/50\n",
      "250/250 [==============================] - 102s 407ms/step - loss: 0.1624 - accuracy: 0.9348 - val_loss: 0.1198 - val_accuracy: 0.9555\n",
      "Epoch 41/50\n",
      "250/250 [==============================] - 100s 400ms/step - loss: 0.1621 - accuracy: 0.9312 - val_loss: 0.2041 - val_accuracy: 0.9089\n",
      "Epoch 42/50\n",
      "250/250 [==============================] - 100s 402ms/step - loss: 0.1512 - accuracy: 0.9392 - val_loss: 0.1075 - val_accuracy: 0.9589\n",
      "Epoch 43/50\n",
      "250/250 [==============================] - 103s 413ms/step - loss: 0.1562 - accuracy: 0.9406 - val_loss: 0.1202 - val_accuracy: 0.9569\n",
      "Epoch 44/50\n",
      "250/250 [==============================] - 101s 403ms/step - loss: 0.1384 - accuracy: 0.9425 - val_loss: 0.1008 - val_accuracy: 0.9621\n",
      "Epoch 45/50\n",
      "250/250 [==============================] - 101s 405ms/step - loss: 0.1354 - accuracy: 0.9476 - val_loss: 0.1756 - val_accuracy: 0.9291\n",
      "Epoch 46/50\n",
      "250/250 [==============================] - 102s 407ms/step - loss: 0.1398 - accuracy: 0.9420 - val_loss: 0.0960 - val_accuracy: 0.9641\n",
      "Epoch 47/50\n",
      "250/250 [==============================] - 104s 418ms/step - loss: 0.1286 - accuracy: 0.9480 - val_loss: 0.1473 - val_accuracy: 0.9392\n",
      "Epoch 48/50\n",
      "250/250 [==============================] - 101s 405ms/step - loss: 0.1386 - accuracy: 0.9451 - val_loss: 0.0944 - val_accuracy: 0.9650\n",
      "Epoch 49/50\n",
      "250/250 [==============================] - 101s 403ms/step - loss: 0.1233 - accuracy: 0.9523 - val_loss: 0.1361 - val_accuracy: 0.9455\n",
      "Epoch 50/50\n",
      "250/250 [==============================] - 100s 400ms/step - loss: 0.1150 - accuracy: 0.9551 - val_loss: 0.1272 - val_accuracy: 0.9490\n"
     ]
    },
    {
     "data": {
      "text/plain": [
       "<keras.src.callbacks.History at 0x297142143d0>"
      ]
     },
     "execution_count": 13,
     "metadata": {},
     "output_type": "execute_result"
    }
   ],
   "source": [
    "import scipy\n",
    "cnn.fit(x = training_set, validation_data = test_set, epochs =50)"
   ]
  },
  {
   "cell_type": "markdown",
   "metadata": {
    "id": "U3PZasO0006Z"
   },
   "source": [
    "## Part 4 - Making a single prediction"
   ]
  },
  {
   "cell_type": "code",
   "execution_count": 56,
   "metadata": {
    "id": "Afz4etMULUNd"
   },
   "outputs": [
    {
     "name": "stdout",
     "output_type": "stream",
     "text": [
      "1/1 [==============================] - 0s 63ms/step\n"
     ]
    }
   ],
   "source": [
    "import numpy as np\n",
    "from keras.preprocessing import image\n",
    "test_image = image.load_img('C:/Users/prath/OneDrive/Desktop/Machine Learning-A-Z-Codes-Datasets/dataset/single_prediction/dog_or_cat2.jpg', target_size = (64, 64))\n",
    "test_image = image.img_to_array(test_image)\n",
    "test_image = np.expand_dims(test_image, axis = 0)\n",
    "result = cnn.predict(test_image)\n",
    "training_set.class_indices\n",
    "if result[0][0] == 1:\n",
    "  prediction = 'dog'\n",
    "else:\n",
    "  prediction = 'cat'\n",
    "\n"
   ]
  },
  {
   "cell_type": "code",
   "execution_count": 57,
   "metadata": {
    "id": "u50DZW7sPk1t"
   },
   "outputs": [
    {
     "name": "stdout",
     "output_type": "stream",
     "text": [
      "cat\n"
     ]
    }
   ],
   "source": [
    "print(prediction)"
   ]
  },
  {
   "cell_type": "code",
   "execution_count": null,
   "metadata": {},
   "outputs": [],
   "source": []
  }
 ],
 "metadata": {
  "colab": {
   "provenance": []
  },
  "kernelspec": {
   "display_name": "Python 3 (ipykernel)",
   "language": "python",
   "name": "python3"
  },
  "language_info": {
   "codemirror_mode": {
    "name": "ipython",
    "version": 3
   },
   "file_extension": ".py",
   "mimetype": "text/x-python",
   "name": "python",
   "nbconvert_exporter": "python",
   "pygments_lexer": "ipython3",
   "version": "3.11.5"
  }
 },
 "nbformat": 4,
 "nbformat_minor": 4
}
